{
 "cells": [
  {
   "metadata": {},
   "cell_type": "markdown",
   "source": [
    "# Experiment-6\n",
    "Implement the missing value, and outlier handling data preprocessing techniques on the dataset"
   ],
   "id": "738705515a51b7e"
  },
  {
   "cell_type": "code",
   "id": "initial_id",
   "metadata": {
    "collapsed": true,
    "ExecuteTime": {
     "end_time": "2024-10-04T08:38:57.167342Z",
     "start_time": "2024-10-04T08:38:56.158250Z"
    }
   },
   "source": [
    "import numpy as np\n",
    "import pandas as pd\n",
    "import matplotlib.pyplot as plt\n",
    "from scipy import stats"
   ],
   "outputs": [],
   "execution_count": 1
  },
  {
   "metadata": {},
   "cell_type": "markdown",
   "source": "Creating Dataset",
   "id": "2c0bcad3ac721915"
  },
  {
   "metadata": {
    "ExecuteTime": {
     "end_time": "2024-10-04T08:40:16.302311Z",
     "start_time": "2024-10-04T08:40:16.298465Z"
    }
   },
   "cell_type": "code",
   "source": "data = np.random.randn(10, 5)",
   "id": "e8b4293ad5b30447",
   "outputs": [],
   "execution_count": 5
  },
  {
   "metadata": {},
   "cell_type": "markdown",
   "source": "Adding Missing Values, Noice and Re-creating Dataset",
   "id": "737834007e65a9fa"
  },
  {
   "metadata": {
    "ExecuteTime": {
     "end_time": "2024-10-04T08:44:05.213982Z",
     "start_time": "2024-10-04T08:44:05.209615Z"
    }
   },
   "cell_type": "code",
   "source": [
    "n_missing = int(data.size * 0.1)\n",
    "missing_indices = (np.random.randint(0, data.shape[0], n_missing), np.random.randint(0, data.shape[1], n_missing))\n",
    "data[missing_indices] = np.nan\n",
    "outliers_indices = np.random.choice(data.shape[0], 5, replace=False)\n",
    "data[outliers_indices] = data[outliers_indices] * 10"
   ],
   "id": "d2e78d22db23b529",
   "outputs": [],
   "execution_count": 7
  },
  {
   "metadata": {},
   "cell_type": "markdown",
   "source": "Creating Pandas Dataframe",
   "id": "41796a9545a8b4e3"
  },
  {
   "metadata": {
    "ExecuteTime": {
     "end_time": "2024-10-04T08:44:39.035702Z",
     "start_time": "2024-10-04T08:44:39.029687Z"
    }
   },
   "cell_type": "code",
   "source": "df = pd.DataFrame(data, columns=[f'Feature_{i}' for i in range(5)])",
   "id": "2cff00500af325fb",
   "outputs": [],
   "execution_count": 8
  },
  {
   "metadata": {},
   "cell_type": "markdown",
   "source": "Handling Missing Values by Imputing Missing Values with Mean and Median and Dropping Missing Values",
   "id": "19dd04398bfcfe2c"
  },
  {
   "metadata": {
    "ExecuteTime": {
     "end_time": "2024-10-04T08:50:02.554224Z",
     "start_time": "2024-10-04T08:50:02.534745Z"
    }
   },
   "cell_type": "code",
   "source": [
    "df_dropna = df.dropna()\n",
    "df_fill_mean = df.fillna(df.mean())\n",
    "df_fill_median = df.fillna(df.median())"
   ],
   "id": "8c9f5241aa36807d",
   "outputs": [],
   "execution_count": 11
  },
  {
   "metadata": {},
   "cell_type": "markdown",
   "source": "Handling Outliers",
   "id": "20b7df837c8823f2"
  }
 ],
 "metadata": {
  "kernelspec": {
   "display_name": "Python 3",
   "language": "python",
   "name": "python3"
  },
  "language_info": {
   "codemirror_mode": {
    "name": "ipython",
    "version": 2
   },
   "file_extension": ".py",
   "mimetype": "text/x-python",
   "name": "python",
   "nbconvert_exporter": "python",
   "pygments_lexer": "ipython2",
   "version": "2.7.6"
  }
 },
 "nbformat": 4,
 "nbformat_minor": 5
}

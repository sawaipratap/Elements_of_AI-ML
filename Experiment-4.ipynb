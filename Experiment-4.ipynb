{
 "cells": [
  {
   "metadata": {},
   "cell_type": "markdown",
   "source": "# Experiment-4",
   "id": "42f70b06e5d3c231"
  },
  {
   "metadata": {},
   "cell_type": "markdown",
   "source": "#### Write a python program to import and export data using Pandas and show the details of the dataset like number of rows, columns, first five rows, size, number of missing values, sum, average, min and max values from the numerical columns.",
   "id": "c64f35a38aa4dff"
  },
  {
   "cell_type": "code",
   "id": "initial_id",
   "metadata": {
    "collapsed": true
   },
   "source": "import pandas as pd",
   "outputs": [],
   "execution_count": null
  },
  {
   "metadata": {},
   "cell_type": "markdown",
   "source": "import and export data using Pandas",
   "id": "13936b8a9f3abb1b"
  },
  {
   "metadata": {},
   "cell_type": "code",
   "source": "df = pd.read_csv('/Users/sawaipratap/Library/CloudStorage/OneDrive-UPES/Curricullum/Outside College/Predictor/Data/HDFC Bank/HDFBAN Equity Data.csv')",
   "id": "bf31eb85e85ea2a1",
   "outputs": [],
   "execution_count": null
  },
  {
   "metadata": {},
   "cell_type": "code",
   "source": "df",
   "id": "dd428f61c92a4224",
   "outputs": [],
   "execution_count": null
  },
  {
   "metadata": {},
   "cell_type": "markdown",
   "source": "number of rows, columns",
   "id": "2d75e6490cd0671b"
  },
  {
   "metadata": {},
   "cell_type": "code",
   "source": "df.shape",
   "id": "acb8b2555212651e",
   "outputs": [],
   "execution_count": null
  },
  {
   "metadata": {},
   "cell_type": "markdown",
   "source": "first five rows",
   "id": "ae53f2a3cd3eec42"
  },
  {
   "metadata": {},
   "cell_type": "code",
   "source": "df.head()",
   "id": "affd63187f301c10",
   "outputs": [],
   "execution_count": null
  },
  {
   "metadata": {},
   "cell_type": "markdown",
   "source": "Minimum Values",
   "id": "b336d3188a826cf3"
  },
  {
   "metadata": {},
   "cell_type": "code",
   "source": "df.min()",
   "id": "268f27e07d5d459e",
   "outputs": [],
   "execution_count": null
  },
  {
   "metadata": {},
   "cell_type": "markdown",
   "source": "Maximum Values",
   "id": "5acee8d04a01a17f"
  },
  {
   "metadata": {},
   "cell_type": "code",
   "source": "df.max()",
   "id": "9942a5f0229b5e92",
   "outputs": [],
   "execution_count": null
  },
  {
   "metadata": {},
   "cell_type": "markdown",
   "source": "Average",
   "id": "1b43838748260c25"
  },
  {
   "metadata": {},
   "cell_type": "code",
   "outputs": [],
   "execution_count": null,
   "source": "df.mean()",
   "id": "dd9ba1355696e970"
  },
  {
   "metadata": {},
   "cell_type": "markdown",
   "source": "Missing Values",
   "id": "bb6e980d0bddafa3"
  },
  {
   "metadata": {},
   "cell_type": "code",
   "source": "df.isnull().sum()",
   "id": "ad806eeb0c177df3",
   "outputs": [],
   "execution_count": null
  }
 ],
 "metadata": {
  "kernelspec": {
   "display_name": "Python 3",
   "language": "python",
   "name": "python3"
  },
  "language_info": {
   "codemirror_mode": {
    "name": "ipython",
    "version": 2
   },
   "file_extension": ".py",
   "mimetype": "text/x-python",
   "name": "python",
   "nbconvert_exporter": "python",
   "pygments_lexer": "ipython2",
   "version": "2.7.6"
  }
 },
 "nbformat": 4,
 "nbformat_minor": 5
}
